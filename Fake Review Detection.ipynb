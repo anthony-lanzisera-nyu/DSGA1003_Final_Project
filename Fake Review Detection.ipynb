{
 "cells": [
  {
   "cell_type": "code",
   "execution_count": 13,
   "metadata": {},
   "outputs": [],
   "source": [
    "import os\n",
    "import numpy as np\n",
    "import pickle\n",
    "import random\n",
    "import collections\n",
    "import matplotlib.pyplot as plt\n",
    "import pandas as pd\n"
   ]
  },
  {
   "cell_type": "code",
   "execution_count": 2,
   "metadata": {},
   "outputs": [
    {
     "name": "stdout",
     "output_type": "stream",
     "text": [
      "Saturday\n"
     ]
    }
   ],
   "source": [
    "import datetime  \n",
    "from datetime import date \n",
    "import calendar \n",
    "  \n",
    "def findDay(date): \n",
    "    year, month, day = (int(i) for i in date.split('-'))     \n",
    "    born = datetime.date(year, month, day)\n",
    "    return born.strftime(\"%A\") \n",
    "  \n",
    "# Driver program \n",
    "date = '2019-03-02'\n",
    "print(findDay(date)) "
   ]
  },
  {
   "cell_type": "code",
   "execution_count": 14,
   "metadata": {},
   "outputs": [],
   "source": [
    "df = pd.read_csv('train.csv')"
   ]
  },
  {
   "cell_type": "code",
   "execution_count": 109,
   "metadata": {
    "scrolled": true
   },
   "outputs": [],
   "source": [
    "dfv = pd.read_csv('dev.csv')"
   ]
  },
  {
   "cell_type": "code",
   "execution_count": 73,
   "metadata": {
    "scrolled": false
   },
   "outputs": [
    {
     "data": {
      "text/plain": [
       "'2014-12-08'"
      ]
     },
     "execution_count": 73,
     "metadata": {},
     "output_type": "execute_result"
    }
   ],
   "source": [
    "df.iloc[0]['date']"
   ]
  },
  {
   "cell_type": "code",
   "execution_count": null,
   "metadata": {},
   "outputs": [],
   "source": []
  },
  {
   "cell_type": "code",
   "execution_count": 74,
   "metadata": {},
   "outputs": [],
   "source": [
    "def date1(x):\n",
    "    return findDay(x['date'])"
   ]
  },
  {
   "cell_type": "code",
   "execution_count": 75,
   "metadata": {
    "scrolled": true
   },
   "outputs": [
    {
     "data": {
      "text/plain": [
       "'Monday'"
      ]
     },
     "execution_count": 75,
     "metadata": {},
     "output_type": "execute_result"
    }
   ],
   "source": [
    "date1(df.iloc[0])"
   ]
  },
  {
   "cell_type": "code",
   "execution_count": 76,
   "metadata": {},
   "outputs": [],
   "source": [
    "def read_data(file):\n",
    "    '''\n",
    "    Read each file into a list of strings.\n",
    "    Example:\n",
    "    [\"it's\", 'a', 'curious', 'thing', \"i've\", 'found', 'that', 'when', 'willis', 'is', 'not', 'called', 'on',\n",
    "    ...'to', 'carry', 'the', 'whole', 'movie', \"he's\", 'much', 'better', 'and', 'so', 'is', 'the', 'movie']\n",
    "    '''\n",
    "    f = open(file)\n",
    "    lines = f.read().split(' ')\n",
    "    symbols = '${}()[].,:;+-*/&|<>=~\" '\n",
    "    words = map(lambda Element: Element.translate(str.maketrans(\"\", \"\", symbols)).strip(), lines)\n",
    "    words = filter(None, words)\n",
    "    return list(words)"
   ]
  },
  {
   "cell_type": "code",
   "execution_count": 77,
   "metadata": {},
   "outputs": [],
   "source": [
    "class reviewInstance:\n",
    "\n",
    "    def __init__(self,review):\n",
    " \n",
    "        self.review=review['review']\n",
    "        self.wordic=[]\n",
    "        self.weekday=findDay(review['date'])\n",
    "        self.count=0\n",
    "        self.label=review['label']\n",
    "        self.rate=review['rating']\n",
    "        self.exid=review['ex_id']\n",
    "        self.userid=review['user_id']\n",
    "        self.prodid=review['prod_id']\n",
    "        \n",
    "        lines = self.review.split(' ')\n",
    "        symbols = '${}()[].,:;+-*/&|<>=~\" '\n",
    "        words = map(lambda Element: Element.translate(str.maketrans(\"\", \"\", symbols)).strip(), lines)\n",
    "        words = filter(None, words)\n",
    "        self.rlist=list(words)\n",
    "        self.count=len(self.rlist)\n",
    "\n",
    "        \n",
    "    def construct_word_dict(self, stop_word=None, count_words=None):\n",
    "        \"\"\"\n",
    "        Description\n",
    "        ===========\n",
    "        Count words in word_list to transform to a dict {word: word_count}\n",
    "        \n",
    "        Input\n",
    "        =====\n",
    "        stop_word: list\n",
    "        Words you hope to filter, not included in dict, default set to None\n",
    "        \n",
    "        count_words: list\n",
    "        Words you hope to keep in the count_dict, if set to None, will keep all the words\n",
    "        \"\"\"\n",
    "        wordlist=self.rlist\n",
    "       \n",
    "        r = collections.Counter()\n",
    "        if count_words == None:\n",
    "            if stop_word:\n",
    "                for word in wordlist:\n",
    "                    if word not in stop_word:\n",
    "\n",
    "                        r[word] += 1\n",
    "            else: \n",
    "                for word in wordlist:\n",
    "                    r[word] += 1\n",
    "                    \n",
    "        else:\n",
    "            if stop_word:\n",
    "                for word in wordlist:\n",
    "                    if word not in stop_word:\n",
    "\n",
    "                        r[word] += 1\n",
    "            else: \n",
    "\n",
    "                for word in wordlist:\n",
    "                    if (word not in stop_word) and (word in count_words):\n",
    "\n",
    "                        r[word] += 1\n",
    "        self.wordic=r\n",
    "    \n",
    "        \n",
    "        \n",
    "\n",
    "            "
   ]
  },
  {
   "cell_type": "code",
   "execution_count": 78,
   "metadata": {
    "scrolled": true
   },
   "outputs": [],
   "source": [
    "x=reviewInstance(df.iloc[2])"
   ]
  },
  {
   "cell_type": "code",
   "execution_count": 128,
   "metadata": {},
   "outputs": [
    {
     "data": {
      "text/html": [
       "<div>\n",
       "<style scoped>\n",
       "    .dataframe tbody tr th:only-of-type {\n",
       "        vertical-align: middle;\n",
       "    }\n",
       "\n",
       "    .dataframe tbody tr th {\n",
       "        vertical-align: top;\n",
       "    }\n",
       "\n",
       "    .dataframe thead th {\n",
       "        text-align: right;\n",
       "    }\n",
       "</style>\n",
       "<table border=\"1\" class=\"dataframe\">\n",
       "  <thead>\n",
       "    <tr style=\"text-align: right;\">\n",
       "      <th></th>\n",
       "      <th>ex_id</th>\n",
       "      <th>user_id</th>\n",
       "      <th>prod_id</th>\n",
       "      <th>rating</th>\n",
       "      <th>label</th>\n",
       "      <th>date</th>\n",
       "      <th>review</th>\n",
       "    </tr>\n",
       "  </thead>\n",
       "  <tbody>\n",
       "    <tr>\n",
       "      <th>0</th>\n",
       "      <td>0</td>\n",
       "      <td>923</td>\n",
       "      <td>0</td>\n",
       "      <td>3.0</td>\n",
       "      <td>1</td>\n",
       "      <td>2014-12-08</td>\n",
       "      <td>The food at snack is a selection of popular Gr...</td>\n",
       "    </tr>\n",
       "    <tr>\n",
       "      <th>1</th>\n",
       "      <td>1</td>\n",
       "      <td>924</td>\n",
       "      <td>0</td>\n",
       "      <td>3.0</td>\n",
       "      <td>1</td>\n",
       "      <td>2013-05-16</td>\n",
       "      <td>This little place in Soho is wonderful. I had ...</td>\n",
       "    </tr>\n",
       "    <tr>\n",
       "      <th>2</th>\n",
       "      <td>2</td>\n",
       "      <td>925</td>\n",
       "      <td>0</td>\n",
       "      <td>4.0</td>\n",
       "      <td>1</td>\n",
       "      <td>2013-07-01</td>\n",
       "      <td>ordered lunch for 15 from Snack last Friday.  ...</td>\n",
       "    </tr>\n",
       "    <tr>\n",
       "      <th>3</th>\n",
       "      <td>3</td>\n",
       "      <td>926</td>\n",
       "      <td>0</td>\n",
       "      <td>4.0</td>\n",
       "      <td>1</td>\n",
       "      <td>2011-07-28</td>\n",
       "      <td>This is a beautiful quaint little restaurant o...</td>\n",
       "    </tr>\n",
       "    <tr>\n",
       "      <th>4</th>\n",
       "      <td>4</td>\n",
       "      <td>927</td>\n",
       "      <td>0</td>\n",
       "      <td>4.0</td>\n",
       "      <td>1</td>\n",
       "      <td>2010-11-01</td>\n",
       "      <td>Snack is great place for a  casual sit down lu...</td>\n",
       "    </tr>\n",
       "    <tr>\n",
       "      <th>...</th>\n",
       "      <td>...</td>\n",
       "      <td>...</td>\n",
       "      <td>...</td>\n",
       "      <td>...</td>\n",
       "      <td>...</td>\n",
       "      <td>...</td>\n",
       "      <td>...</td>\n",
       "    </tr>\n",
       "    <tr>\n",
       "      <th>250869</th>\n",
       "      <td>358950</td>\n",
       "      <td>14671</td>\n",
       "      <td>349</td>\n",
       "      <td>5.0</td>\n",
       "      <td>0</td>\n",
       "      <td>2014-02-08</td>\n",
       "      <td>Made a reservation for an early dinner Saturda...</td>\n",
       "    </tr>\n",
       "    <tr>\n",
       "      <th>250870</th>\n",
       "      <td>358951</td>\n",
       "      <td>3356</td>\n",
       "      <td>349</td>\n",
       "      <td>5.0</td>\n",
       "      <td>0</td>\n",
       "      <td>2014-02-07</td>\n",
       "      <td>Emily is like Franny's Marco, but with warmth ...</td>\n",
       "    </tr>\n",
       "    <tr>\n",
       "      <th>250871</th>\n",
       "      <td>358953</td>\n",
       "      <td>116424</td>\n",
       "      <td>349</td>\n",
       "      <td>5.0</td>\n",
       "      <td>0</td>\n",
       "      <td>2014-01-31</td>\n",
       "      <td>Can't say enough good things about this place....</td>\n",
       "    </tr>\n",
       "    <tr>\n",
       "      <th>250872</th>\n",
       "      <td>358954</td>\n",
       "      <td>161147</td>\n",
       "      <td>349</td>\n",
       "      <td>5.0</td>\n",
       "      <td>0</td>\n",
       "      <td>2014-01-30</td>\n",
       "      <td>Had a great dinner here- fantastic pizza, the ...</td>\n",
       "    </tr>\n",
       "    <tr>\n",
       "      <th>250873</th>\n",
       "      <td>358956</td>\n",
       "      <td>5260</td>\n",
       "      <td>349</td>\n",
       "      <td>5.0</td>\n",
       "      <td>0</td>\n",
       "      <td>2014-01-25</td>\n",
       "      <td>Pizza Loves Emily and I love Emily's pizza. Th...</td>\n",
       "    </tr>\n",
       "  </tbody>\n",
       "</table>\n",
       "<p>250874 rows × 7 columns</p>\n",
       "</div>"
      ],
      "text/plain": [
       "         ex_id  user_id  prod_id  rating  label        date  \\\n",
       "0            0      923        0     3.0      1  2014-12-08   \n",
       "1            1      924        0     3.0      1  2013-05-16   \n",
       "2            2      925        0     4.0      1  2013-07-01   \n",
       "3            3      926        0     4.0      1  2011-07-28   \n",
       "4            4      927        0     4.0      1  2010-11-01   \n",
       "...        ...      ...      ...     ...    ...         ...   \n",
       "250869  358950    14671      349     5.0      0  2014-02-08   \n",
       "250870  358951     3356      349     5.0      0  2014-02-07   \n",
       "250871  358953   116424      349     5.0      0  2014-01-31   \n",
       "250872  358954   161147      349     5.0      0  2014-01-30   \n",
       "250873  358956     5260      349     5.0      0  2014-01-25   \n",
       "\n",
       "                                                   review  \n",
       "0       The food at snack is a selection of popular Gr...  \n",
       "1       This little place in Soho is wonderful. I had ...  \n",
       "2       ordered lunch for 15 from Snack last Friday.  ...  \n",
       "3       This is a beautiful quaint little restaurant o...  \n",
       "4       Snack is great place for a  casual sit down lu...  \n",
       "...                                                   ...  \n",
       "250869  Made a reservation for an early dinner Saturda...  \n",
       "250870  Emily is like Franny's Marco, but with warmth ...  \n",
       "250871  Can't say enough good things about this place....  \n",
       "250872  Had a great dinner here- fantastic pizza, the ...  \n",
       "250873  Pizza Loves Emily and I love Emily's pizza. Th...  \n",
       "\n",
       "[250874 rows x 7 columns]"
      ]
     },
     "execution_count": 128,
     "metadata": {},
     "output_type": "execute_result"
    }
   ],
   "source": [
    "df"
   ]
  },
  {
   "cell_type": "code",
   "execution_count": 113,
   "metadata": {},
   "outputs": [],
   "source": [
    "n=len(df)"
   ]
  },
  {
   "cell_type": "code",
   "execution_count": 114,
   "metadata": {},
   "outputs": [
    {
     "data": {
      "text/plain": [
       "250874"
      ]
     },
     "execution_count": 114,
     "metadata": {},
     "output_type": "execute_result"
    }
   ],
   "source": [
    "n"
   ]
  },
  {
   "cell_type": "code",
   "execution_count": 81,
   "metadata": {},
   "outputs": [],
   "source": [
    "X=[]\n",
    "for i in range(n):\n",
    "    x=reviewInstance(df.iloc[i])\n",
    "    x.construct_word_dict()\n",
    "    X.append(x)\n"
   ]
  },
  {
   "cell_type": "code",
   "execution_count": 115,
   "metadata": {},
   "outputs": [],
   "source": [
    "n2=len(dfv)"
   ]
  },
  {
   "cell_type": "code",
   "execution_count": 116,
   "metadata": {},
   "outputs": [],
   "source": [
    "\n",
    "X2=[]\n",
    "for i in range(n2):\n",
    "    x=reviewInstance(dfv.iloc[i])\n",
    "    x.construct_word_dict()\n",
    "    X2.append(x)\n",
    "\n",
    "\n"
   ]
  },
  {
   "cell_type": "code",
   "execution_count": 85,
   "metadata": {},
   "outputs": [],
   "source": [
    "with open('review_train.pkl', 'wb') as f:\n",
    "        pickle.dump(X, f)"
   ]
  },
  {
   "cell_type": "code",
   "execution_count": 92,
   "metadata": {
    "scrolled": true
   },
   "outputs": [],
   "source": [
    "with open('review_train.pkl', \"rb\") as f:\n",
    "    review_t=pickle.load(f)"
   ]
  },
  {
   "cell_type": "code",
   "execution_count": 93,
   "metadata": {},
   "outputs": [
    {
     "data": {
      "text/plain": [
       "7"
      ]
     },
     "execution_count": 93,
     "metadata": {},
     "output_type": "execute_result"
    }
   ],
   "source": [
    "review_t[6].exid"
   ]
  },
  {
   "cell_type": "code",
   "execution_count": 117,
   "metadata": {},
   "outputs": [],
   "source": [
    "with open('review_val.pkl', 'wb') as f:\n",
    "        pickle.dump(X2, f)"
   ]
  },
  {
   "cell_type": "code",
   "execution_count": 118,
   "metadata": {},
   "outputs": [],
   "source": [
    "with open('review_val.pkl', \"rb\") as f:\n",
    "    review_v=pickle.load(f)"
   ]
  },
  {
   "cell_type": "code",
   "execution_count": 94,
   "metadata": {},
   "outputs": [],
   "source": [
    "n=len(review_t)"
   ]
  },
  {
   "cell_type": "code",
   "execution_count": 95,
   "metadata": {},
   "outputs": [
    {
     "data": {
      "text/plain": [
       "250874"
      ]
     },
     "execution_count": 95,
     "metadata": {},
     "output_type": "execute_result"
    }
   ],
   "source": [
    "n"
   ]
  },
  {
   "cell_type": "code",
   "execution_count": 96,
   "metadata": {},
   "outputs": [],
   "source": [
    "weekday1=0\n",
    "weekend1=0\n",
    "weekday0=0\n",
    "weekend0=0\n",
    "for i in range(n):\n",
    "    if review_t[i].label==1:\n",
    "        if review_t[i].weekday == 'Sunday' or review_t[i].weekday == 'Saturday' :\n",
    "            \n",
    "            weekend1=weekend1+1\n",
    "        else:\n",
    "            weekday1=weekday1+1\n",
    "    else:\n",
    "        if review_t[i].weekday == 'Sunday' or review_t[i].weekday == 'Saturday':\n",
    "            weekend0=weekend0+1\n",
    "        else:\n",
    "            weekday0=weekday0+1\n",
    "        \n",
    "        \n",
    "    "
   ]
  },
  {
   "cell_type": "code",
   "execution_count": 97,
   "metadata": {},
   "outputs": [
    {
     "data": {
      "text/plain": [
       "0.2698787714473837"
      ]
     },
     "execution_count": 97,
     "metadata": {},
     "output_type": "execute_result"
    }
   ],
   "source": [
    "weekend1/(weekday1+weekend1)"
   ]
  },
  {
   "cell_type": "code",
   "execution_count": 98,
   "metadata": {},
   "outputs": [
    {
     "data": {
      "text/plain": [
       "0.29582990824465133"
      ]
     },
     "execution_count": 98,
     "metadata": {},
     "output_type": "execute_result"
    }
   ],
   "source": [
    "weekend0/(weekend0+weekday0)"
   ]
  },
  {
   "cell_type": "code",
   "execution_count": 99,
   "metadata": {
    "scrolled": true
   },
   "outputs": [
    {
     "data": {
      "text/plain": [
       "0.2857142857142857"
      ]
     },
     "execution_count": 99,
     "metadata": {},
     "output_type": "execute_result"
    }
   ],
   "source": [
    "2/7"
   ]
  },
  {
   "cell_type": "markdown",
   "metadata": {},
   "source": [
    "Looks like fake reviews are more likely to be sent during weekday 3% higher than real reviews"
   ]
  },
  {
   "cell_type": "code",
   "execution_count": null,
   "metadata": {},
   "outputs": [],
   "source": []
  },
  {
   "cell_type": "code",
   "execution_count": null,
   "metadata": {},
   "outputs": [],
   "source": []
  },
  {
   "cell_type": "code",
   "execution_count": 100,
   "metadata": {},
   "outputs": [],
   "source": [
    "def dotProduct(d1, d2):\n",
    "    \"\"\"\n",
    "    @param dict d1: a feature vector represented by a mapping from a feature (string) to a weight (float).\n",
    "    @param dict d2: same as d1\n",
    "    @return float: the dot product between d1 and d2\n",
    "    \"\"\"\n",
    "    if len(d1) < len(d2):\n",
    "        return dotProduct(d2, d1)\n",
    "    else:\n",
    "        return sum(d1.get(f, 0) * v for f, v in d2.items())\n",
    "\n",
    "def increment(d1, scale, d2):\n",
    "    \"\"\"\n",
    "    Implements d1 += scale * d2 for sparse vectors.\n",
    "    @param dict d1: the feature vector which is mutated.\n",
    "    @param float scale\n",
    "    @param dict d2: a feature vector.\n",
    "\n",
    "    NOTE: This function does not return anything, but rather\n",
    "    increments d1 in place. We do this because it is much faster to\n",
    "    change elements of d1 in place than to build a new dictionary and\n",
    "    return it.\n",
    "    \"\"\"\n",
    "    for f, v in d2.items():\n",
    "        d1[f] = d1.get(f, 0) + v * scale"
   ]
  },
  {
   "cell_type": "code",
   "execution_count": 129,
   "metadata": {},
   "outputs": [],
   "source": [
    "def fastpegasos(review, max_epoch, lam, watch_list=None, grad_checking=False):\n",
    "    \"\"\"\n",
    "    Description\n",
    "    ==========\n",
    "    Implementat\n",
    "    ion of Pegasos Algorithm \n",
    "\n",
    "    Input\n",
    "    =====\n",
    "    review_list: list of reviewInstance's\n",
    "    list of objects with labels and encoded input from reviews\n",
    "\n",
    "    max_epoch: int \n",
    "    stopping condition\n",
    "\n",
    "    lam: float \n",
    "    regularization parameter\n",
    "\n",
    "    watch_list: list or reviewInstance's\n",
    "    passed to accuracy_percent or magnitude_compare; default None\n",
    "\n",
    "    grad_checking: bool \n",
    "    numerical test of gradient of svm objective\n",
    "\n",
    "    Output\n",
    "    ======\n",
    "    weights\n",
    "    \"\"\"\n",
    "    \n",
    "    #Initialization\n",
    "    s=1\n",
    "    w = collections.Counter()\n",
    "    epoch = 0\n",
    "    t = 1\n",
    "    n = len(review)\n",
    "    \n",
    "    \n",
    "\n",
    "    #Loop\n",
    "    # Use the util.increment and util.dotProduct functions in update\n",
    "    while epoch < max_epoch:\n",
    "        #print(\"epoch=\", epoch)\n",
    "        for i in range(n):\n",
    "            y = review[i].label*2-1\n",
    "            \n",
    "         \n",
    "\n",
    "                \n",
    "            t = t+1\n",
    "            ita = 1/(t*lam)\n",
    "            s=(1-ita*lam)*s\n",
    "            \n",
    "            \n",
    "            \n",
    "            \n",
    "            if y*dotProduct(w, review[i].wordic) < 1:\n",
    "                \n",
    "                \n",
    "                \n",
    "                #Implements d1 += scale * d2 for sparse vectors.\n",
    "                \n",
    "                increment(w, ita*y/s,review[i].wordic)\n",
    "            \n",
    "        \n",
    "        epoch=epoch+1\n",
    "    increment(w,s-1,w)\n",
    "    \n",
    "        \n",
    "    return w"
   ]
  },
  {
   "cell_type": "code",
   "execution_count": 138,
   "metadata": {},
   "outputs": [
    {
     "data": {
      "text/plain": [
       "1"
      ]
     },
     "execution_count": 138,
     "metadata": {},
     "output_type": "execute_result"
    }
   ],
   "source": [
    "review_t[10].label"
   ]
  },
  {
   "cell_type": "code",
   "execution_count": 131,
   "metadata": {},
   "outputs": [],
   "source": [
    "w=fastpegasos(review_t, 5 , 1, watch_list=None, grad_checking=False)"
   ]
  },
  {
   "cell_type": "code",
   "execution_count": 136,
   "metadata": {},
   "outputs": [],
   "source": [
    "def rate(w,review):\n",
    "\n",
    "    n=len(review)\n",
    "    cor=0\n",
    "    wro=0\n",
    "    for i in range(n):\n",
    "        if (review[i].label*2-1)*np.sign(dotProduct(w,review[i].wordic)) > 0:\n",
    "            cor = cor + 1\n",
    "        else:\n",
    "            wro = wro + 1\n",
    "    return wro/(cor+wro)"
   ]
  },
  {
   "cell_type": "code",
   "execution_count": 139,
   "metadata": {},
   "outputs": [
    {
     "data": {
      "text/plain": [
       "0.11414889470460493"
      ]
     },
     "execution_count": 139,
     "metadata": {},
     "output_type": "execute_result"
    }
   ],
   "source": [
    "rate(w,review_v)"
   ]
  },
  {
   "cell_type": "code",
   "execution_count": null,
   "metadata": {},
   "outputs": [],
   "source": []
  }
 ],
 "metadata": {
  "kernelspec": {
   "display_name": "Python 3",
   "language": "python",
   "name": "python3"
  },
  "language_info": {
   "codemirror_mode": {
    "name": "ipython",
    "version": 3
   },
   "file_extension": ".py",
   "mimetype": "text/x-python",
   "name": "python",
   "nbconvert_exporter": "python",
   "pygments_lexer": "ipython3",
   "version": "3.8.2"
  }
 },
 "nbformat": 4,
 "nbformat_minor": 4
}
