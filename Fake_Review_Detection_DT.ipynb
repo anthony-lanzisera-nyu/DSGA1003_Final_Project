{
  "nbformat": 4,
  "nbformat_minor": 0,
  "metadata": {
    "colab": {
      "name": "Fake Review Detection",
      "provenance": [],
      "collapsed_sections": []
    },
    "kernelspec": {
      "name": "python3",
      "display_name": "Python 3"
    }
  },
  "cells": [
    {
      "cell_type": "markdown",
      "metadata": {
        "id": "IxeL0AfNeuGN",
        "colab_type": "text"
      },
      "source": [
        "## Data Preparation (for RoBERTa)"
      ]
    },
    {
      "cell_type": "code",
      "metadata": {
        "id": "0B_PS9PQj1g6",
        "colab_type": "code",
        "colab": {}
      },
      "source": [
        "import csv\n",
        "\n",
        "train = []\n",
        "\n",
        "with open('train.csv', 'r') as file:\n",
        "  csv_reader = csv.reader(file, delimiter=',')\n",
        "  for row in csv_reader:\n",
        "    if \"\\n\" not in row[6]: # remove malformed example\n",
        "      train.append([row[6], row[4]])\n",
        "\n",
        "train = train[1:] # remove the first row\n",
        "\n",
        "with open('train.tsv', 'w') as file:\n",
        "  tsv_writer = csv.writer(file, delimiter='\\t')\n",
        "  tsv_writer.writerow(['sentence', 'label'])\n",
        "  for row in train:\n",
        "    tsv_writer.writerow(row)\n",
        "\n",
        "dev = []\n",
        "\n",
        "with open('dev.csv', 'r') as file:\n",
        "  csv_reader = csv.reader(file, delimiter=',')\n",
        "  for row in csv_reader:\n",
        "    if \"\\n\" not in row[6]: # remove malformed example\n",
        "      dev.append([row[6], row[4]])\n",
        "\n",
        "dev = dev[1:] #remove the first_row\n",
        "\n",
        "with open('dev.tsv', 'w') as file:\n",
        "  tsv_writer = csv.writer(file, delimiter='\\t')\n",
        "  tsv_writer.writerow(['sentence', 'label'])\n",
        "  for row in dev:\n",
        "    tsv_writer.writerow(row)"
      ],
      "execution_count": 0,
      "outputs": []
    },
    {
      "cell_type": "markdown",
      "metadata": {
        "id": "VBpIti0xlZjk",
        "colab_type": "text"
      },
      "source": [
        "## Data Preparation (for DT)"
      ]
    },
    {
      "cell_type": "code",
      "metadata": {
        "id": "UjU-rNSYmPsc",
        "colab_type": "code",
        "colab": {}
      },
      "source": [
        "import csv\n",
        "\n",
        "train_text = []\n",
        "train_label = []\n",
        "\n",
        "with open('train.csv', 'r') as file:\n",
        "  csv_reader = csv.reader(file, delimiter=',')\n",
        "  for row in csv_reader:\n",
        "    if \"\\n\" not in row[6]: # remove malformed example\n",
        "      train_label.append(row[4])\n",
        "      train_text.append(row[6])\n",
        "\n",
        "train_text = train_text[1:]\n",
        "train_label = train_label[1:]\n",
        "\n",
        "dev_text = []\n",
        "dev_label = []\n",
        "\n",
        "with open('dev.csv', 'r') as file:\n",
        "  csv_reader = csv.reader(file, delimiter=',')\n",
        "  for row in csv_reader:\n",
        "    if \"\\n\" not in row[6]: # remove malformed example\n",
        "      dev_label.append(row[4])\n",
        "      dev_text.append(row[6])\n",
        "\n",
        "dev_text = dev_text[1:]\n",
        "dev_label = dev_label[1:]"
      ],
      "execution_count": 0,
      "outputs": []
    },
    {
      "cell_type": "code",
      "metadata": {
        "id": "CD1-VydslYiC",
        "colab_type": "code",
        "colab": {}
      },
      "source": [
        "def preprocess_data(data):\n",
        "    \n",
        "    preprocessed_data = []\n",
        "    \n",
        "    for line in data:\n",
        "        wordList = []\n",
        "        for word in line.split(\" \"):\n",
        "            wordList.append(word)\n",
        "        preprocessed_data.append(wordList)\n",
        "        \n",
        "    return preprocessed_data\n",
        "\n",
        "train_data = preprocess_data(train_text)\n",
        "dev_data = preprocess_data(dev_text)"
      ],
      "execution_count": 0,
      "outputs": []
    },
    {
      "cell_type": "code",
      "metadata": {
        "id": "H1QsXI7gmIPt",
        "colab_type": "code",
        "colab": {}
      },
      "source": [
        "import numpy as np\n",
        "\n",
        "class Vectorizer():\n",
        "    def __init__(self, max_features):\n",
        "        self.max_features = max_features\n",
        "        self.vocab_list = None\n",
        "        self.token_to_index = None\n",
        "\n",
        "    def fit(self, dataset):\n",
        "        wordDict = {}\n",
        "        \n",
        "        for line in dataset:\n",
        "            for word in line: \n",
        "                if word in wordDict: \n",
        "                    wordDict[word] += 1\n",
        "                else:\n",
        "                    wordDict[word] = 1\n",
        "                    \n",
        "        sorted_wordDict = {k: v for (k, v) in sorted(wordDict.items(), key=lambda item: item[1], reverse=True)}\n",
        "        self.vocab_list = [k for k in list(sorted_wordDict)[:self.max_features]]\n",
        "        self.token_to_index = {k: v for (k, v) in zip(self.vocab_list, range(len(self.vocab_list)))}\n",
        "\n",
        "    def transform(self, dataset):\n",
        "        data_matrix = np.zeros((len(dataset), len(self.vocab_list)))\n",
        "        \n",
        "        for i in range(len(dataset)):\n",
        "            line = dataset[i]\n",
        "            for j in range(len(self.vocab_list)):\n",
        "                if self.vocab_list[j] in line: \n",
        "                    data_matrix[i][j] = 1\n",
        "                else:\n",
        "                    data_matrix[i][j] = 0\n",
        "        \n",
        "        return data_matrix"
      ],
      "execution_count": 0,
      "outputs": []
    },
    {
      "cell_type": "code",
      "metadata": {
        "id": "n_8lQDs6mKEL",
        "colab_type": "code",
        "colab": {}
      },
      "source": [
        "max_features = 2000\n",
        "vectorizer = Vectorizer(max_features=max_features)\n",
        "vectorizer.fit(train_data)\n",
        "X_train = vectorizer.transform(train_data)\n",
        "X_dev = vectorizer.transform(dev_data)\n",
        "y_train = np.array(train_label)\n",
        "y_dev = np.array(dev_label)"
      ],
      "execution_count": 0,
      "outputs": []
    },
    {
      "cell_type": "markdown",
      "metadata": {
        "id": "2v_PK_WGe19C",
        "colab_type": "text"
      },
      "source": [
        "## Model Preparation"
      ]
    },
    {
      "cell_type": "code",
      "metadata": {
        "id": "JnmETN1glUAq",
        "colab_type": "code",
        "colab": {}
      },
      "source": [
        "from sklearn.tree import DecisionTreeClassifier\n",
        "\n",
        "clf = DecisionTreeClassifier(random_state=0)\n",
        "clf.fit(X_train, y_train)\n",
        "pred = clf.predict(X_dev)"
      ],
      "execution_count": 0,
      "outputs": []
    },
    {
      "cell_type": "code",
      "metadata": {
        "id": "l-KPr4L8sLnj",
        "colab_type": "code",
        "colab": {
          "base_uri": "https://localhost:8080/",
          "height": 34
        },
        "outputId": "b927bed1-ad9b-4035-a354-9864d3697903"
      },
      "source": [
        "def accuracy_score(y_true, y_pred): \n",
        "    correct = 0\n",
        "    \n",
        "    for i in range(len(y_true)):\n",
        "        if y_true[i] == y_pred[i]:\n",
        "            correct += 1\n",
        "            \n",
        "    accuracy = correct / len(y_true)\n",
        "    return accuracy\n",
        "\n",
        "print(accuracy_score(y_val, pred))"
      ],
      "execution_count": 37,
      "outputs": [
        {
          "output_type": "stream",
          "text": [
            "0.8224369326724954\n"
          ],
          "name": "stdout"
        }
      ]
    },
    {
      "cell_type": "code",
      "metadata": {
        "id": "UPZzwi-ShOhG",
        "colab_type": "code",
        "colab": {}
      },
      "source": [
        ""
      ],
      "execution_count": 0,
      "outputs": []
    }
  ]
}